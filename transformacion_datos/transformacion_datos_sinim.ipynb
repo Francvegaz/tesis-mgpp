{
 "cells": [
  {
   "cell_type": "code",
   "execution_count": null,
   "id": "d12c1ef4-0002-4ce8-9124-eae2393aed04",
   "metadata": {},
   "outputs": [],
   "source": [
    "import pandas as pd\n",
    "from tqdm import tqdm\n",
    "import pickle"
   ]
  },
  {
   "cell_type": "markdown",
   "id": "23d39233-8952-4a29-871f-72a85a04ec14",
   "metadata": {},
   "source": [
    "# Datos sin correccion monetaria"
   ]
  },
  {
   "cell_type": "code",
   "execution_count": null,
   "id": "a538e1cd-2792-4686-a1b6-4e19046f5e73",
   "metadata": {},
   "outputs": [],
   "source": [
    "years = [2014, 2015, 2016, 2017, 2018, 2019]\n",
    "\n",
    "df = pd.DataFrame()\n",
    "\n",
    "pbar = tqdm(total=len(years))\n",
    "for i, year in enumerate(years):\n",
    "    # carga de datos, skiprows=1 porque hay una fila con el año\n",
    "    _df = pd.read_excel(f\"../Datos/02_intermediate/sinim/sinim_{year}.xlsx\", engine=\"openpyxl\", skiprows=1)\n",
    "\n",
    "    # cambio de nombre a las primeras dos columnas que corresponden al codigo y municipio\n",
    "    _df.rename(mapper={\"Unnamed: 0\":\"codigo\", \"Unnamed: 1\":\"municipio\"}, axis=1, inplace=True)\n",
    "    \n",
    "    # se elimina la primera fila pues tiene solo el año\n",
    "    _df.drop(0, inplace=True)\n",
    "\n",
    "    # crear un glosario de datos\n",
    "    if i==0:\n",
    "        col_name_description = {col.split(\" \")[0]: col.replace(col.split(\" \")[0], \"\") for col in _df.columns if not (col==\"codigo\" or col==\"municipio\")}\n",
    "        with open(\"../Datos/09_dictionaries/glosario_columnas_sinim.pkl\", \"wb\") as file:\n",
    "            pickle.dump(col_name_description, file)\n",
    "    \n",
    "    # cambiar nombres de las columnas\n",
    "    col_name_mapper = {col: col.split(\" \")[0] for col in _df.columns if not (col==\"codigo\" or col==\"municipio\")}\n",
    "    _df.rename(mapper=col_name_mapper, axis=1, inplace=True)\n",
    "\n",
    "    # transformar a datos numéricos\n",
    "    for col in df.columns:\n",
    "        if not(col==\"codigo\" or col==\"municipio\" or col==\"año\"):\n",
    "            if \"(S-N)\" not in col_name_description[col]:\n",
    "                _df[col] = pd.to_numeric(_df[col], errors=\"coerce\")\n",
    "\n",
    "    # agregar año\n",
    "    _df[\"año\"] = year\n",
    "    \n",
    "    # concatenar\n",
    "    df = pd.concat([df, _df], axis=0)\n",
    "    pbar.update(1)\n",
    "\n",
    "pbar.close()"
   ]
  },
  {
   "cell_type": "code",
   "execution_count": null,
   "id": "20d1c3d3-f4b1-424e-9c23-2abf2eba1a84",
   "metadata": {},
   "outputs": [],
   "source": [
    "df.reset_index(drop=True)\n",
    "df.to_csv(f\"../Datos/03_primary/sinim_{min(years)}_{max(years)}_consolidado.csv\")"
   ]
  },
  {
   "cell_type": "markdown",
   "id": "19f4bc4d-6a16-40b8-8a62-098184116c57",
   "metadata": {},
   "source": [
    "# Datos con correccion monetaria"
   ]
  },
  {
   "cell_type": "code",
   "execution_count": null,
   "id": "8a3bbe94-15f0-4215-aa81-f65cb75b34d9",
   "metadata": {},
   "outputs": [],
   "source": [
    "years = [2014, 2015, 2016, 2017, 2018, 2019]\n",
    "\n",
    "df = pd.DataFrame()\n",
    "\n",
    "pbar = tqdm(total=len(years))\n",
    "for i, year in enumerate(years):\n",
    "    # carga de datos, skiprows=1 porque hay una fila con el año\n",
    "    _df = pd.read_excel(f\"../Datos/02_intermediate/sinim/sinim_{year}_correccion.xlsx\", engine=\"openpyxl\", skiprows=1)\n",
    "\n",
    "    # cambio de nombre a las primeras dos columnas que corresponden al codigo y municipio\n",
    "    _df.rename(mapper={\"Unnamed: 0\":\"codigo\", \"Unnamed: 1\":\"municipio\"}, axis=1, inplace=True)\n",
    "    \n",
    "    # se elimina la primera fila pues tiene solo el año\n",
    "    _df.drop(0, inplace=True)\n",
    "\n",
    "    # crear un glosario de datos\n",
    "    if i==0:\n",
    "        col_name_description = {col.split(\" \")[0]: col.replace(col.split(\" \")[0], \"\") for col in _df.columns if not (col==\"codigo\" or col==\"municipio\")}\n",
    "        with open(\"../Datos/09_dictionaries/glosario_columnas_sinim.pkl\", \"wb\") as file:\n",
    "            pickle.dump(col_name_description, file)\n",
    "    \n",
    "    # cambiar nombres de las columnas\n",
    "    col_name_mapper = {col: col.split(\" \")[0] for col in _df.columns if not (col==\"codigo\" or col==\"municipio\")}\n",
    "    _df.rename(mapper=col_name_mapper, axis=1, inplace=True)\n",
    "\n",
    "    # transformar a datos numéricos\n",
    "    for col in df.columns:\n",
    "        if not(col==\"codigo\" or col==\"municipio\" or col==\"año\"):\n",
    "            if \"(S-N)\" not in col_name_description[col]:\n",
    "                _df[col] = pd.to_numeric(_df[col], errors=\"coerce\")\n",
    "\n",
    "    # agregar año\n",
    "    _df[\"año\"] = year\n",
    "    \n",
    "    # concatenar\n",
    "    df = pd.concat([df, _df], axis=0)\n",
    "    pbar.update(1)\n",
    "\n",
    "pbar.close()"
   ]
  },
  {
   "cell_type": "code",
   "execution_count": null,
   "id": "871ce9e2-3229-4cbf-a310-65d309581356",
   "metadata": {},
   "outputs": [],
   "source": [
    "df.reset_index(drop=True)\n",
    "df.to_csv(f\"../Datos/03_primary/sinim_con_correccion_{min(years)}_{max(years)}_consolidado.csv\")"
   ]
  }
 ],
 "metadata": {
  "kernelspec": {
   "display_name": "Python 3 (ipykernel)",
   "language": "python",
   "name": "python3"
  },
  "language_info": {
   "codemirror_mode": {
    "name": "ipython",
    "version": 3
   },
   "file_extension": ".py",
   "mimetype": "text/x-python",
   "name": "python",
   "nbconvert_exporter": "python",
   "pygments_lexer": "ipython3",
   "version": "3.8.17"
  }
 },
 "nbformat": 4,
 "nbformat_minor": 5
}
