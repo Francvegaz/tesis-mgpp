{
 "cells": [
  {
   "cell_type": "code",
   "execution_count": 1,
   "id": "0fff935c-480f-4066-a240-e71da21c4704",
   "metadata": {},
   "outputs": [],
   "source": [
    "import pandas as pd\n",
    "from tqdm import tqdm"
   ]
  },
  {
   "cell_type": "code",
   "execution_count": 2,
   "id": "a932e581-06e4-45a9-82e5-ec6feaf07b20",
   "metadata": {},
   "outputs": [
    {
     "name": "stderr",
     "output_type": "stream",
     "text": [
      "100%|███████████████████████████████████████████████████████████████████████████████████████| 6/6 [12:30<00:00, 125.10s/it]\n"
     ]
    }
   ],
   "source": [
    "years = [2014, 2015, 2016, 2017, 2018, 2019]\n",
    "\n",
    "pbar = tqdm(total=len(years))\n",
    "for year in years:\n",
    "    # lectura datos del primer semestre\n",
    "    df1 = pd.read_csv(f\"../Datos/01_raw/{year}-1.txt\", sep=\"|\")\n",
    "    df1[\"Año\"]=year\n",
    "    df1[\"Semestre\"]=1\n",
    "    df1[\"Rol\"] = df1[\"Rol\"].astype(str)\n",
    "    df1[\"Comuna\"] = df1[\"Comuna\"].astype(str)\n",
    "    df1[\"Region\"] = df1[\"Comuna\"].str[:-3]\n",
    "\n",
    "    # lectura datos del segundo semestre\n",
    "    df2 = pd.read_csv(f\"../Datos/01_raw/{year}-2.txt\", sep=\"|\")\n",
    "    df2[\"Año\"]=year\n",
    "    df2[\"Semestre\"]=2\n",
    "    df2[\"Rol\"] = df2[\"Rol\"].astype(str)\n",
    "    df2[\"Comuna\"] = df2[\"Comuna\"].astype(str)\n",
    "    df2[\"Region\"] = df2[\"Comuna\"].str[:-3]\n",
    "\n",
    "    # concatenación de datos\n",
    "    df=pd.concat([df1,df2],axis=0)\n",
    "    df.to_csv(f\"../Datos/03_primary/{year}.csv\")\n",
    "    \n",
    "    pbar.update(1)\n",
    "\n",
    "pbar.close()"
   ]
  },
  {
   "cell_type": "code",
   "execution_count": null,
   "id": "fa693d00-225f-4054-9d93-aeafe5ffb390",
   "metadata": {},
   "outputs": [],
   "source": []
  }
 ],
 "metadata": {
  "kernelspec": {
   "display_name": "Python 3 (ipykernel)",
   "language": "python",
   "name": "python3"
  },
  "language_info": {
   "codemirror_mode": {
    "name": "ipython",
    "version": 3
   },
   "file_extension": ".py",
   "mimetype": "text/x-python",
   "name": "python",
   "nbconvert_exporter": "python",
   "pygments_lexer": "ipython3",
   "version": "3.8.17"
  }
 },
 "nbformat": 4,
 "nbformat_minor": 5
}
